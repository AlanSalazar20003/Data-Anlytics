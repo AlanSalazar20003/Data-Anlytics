{
 "cells": [
  {
   "cell_type": "code",
   "execution_count": 17,
   "metadata": {},
   "outputs": [],
   "source": [
    "import pandas as pd\n",
    "\n",
    "newDefects_path = \"trendings_defectos_joint.csv\" \n",
    "newDefects = pd.read_csv(newDefects_path)\n",
    "\n",
    "oldTags_path = \"exit.csv\"  \n",
    "oldTags = pd.read_csv(oldTags_path)"
   ]
  },
  {
   "cell_type": "code",
   "execution_count": 18,
   "metadata": {},
   "outputs": [
    {
     "name": "stdout",
     "output_type": "stream",
     "text": [
      "Common columns between both datasets: {'material_salida'}\n"
     ]
    }
   ],
   "source": [
    "# Find matching columns between df\n",
    "common_columns = set(oldTags.columns).intersection(newDefects.columns)\n",
    "print(f\"Common columns between both datasets: {common_columns}\")"
   ]
  },
  {
   "cell_type": "code",
   "execution_count": 20,
   "metadata": {},
   "outputs": [
    {
     "name": "stdout",
     "output_type": "stream",
     "text": [
      "  slab_id-1 material_salida  FCE Number     SGC  Slab Width  Slab Thickness  \\\n",
      "0   DE09087   4A391811PM400           2  C071TM        1282             210   \n",
      "1   OA03122   4A391817PM400           2  C071TM        1238             204   \n",
      "2   OA03209   4A391831PM400           2  C071TM        1271             204   \n",
      "3   OA03204   4A391825PM400           2  C071TM        1275             204   \n",
      "4   OA03194   4A391829PM400           2  C071TM        1277             204   \n",
      "\n",
      "   Slab Lenght  Slab Weight  slab_width_charge Commander Slab ID  ...  \\\n",
      "0         9420        19.36             1737.0           HA32353  ...   \n",
      "1        11434        22.05                0.0           IS19692  ...   \n",
      "2        10236        20.42             1657.0           IS52549  ...   \n",
      "3        10235        20.40             1658.0           IS51063  ...   \n",
      "4        10228        20.36             1667.0           IS52549  ...   \n",
      "\n",
      "   CALC_MEAN_TEMP_PHASE2 CALC_MEAN_TEMP_PHASE3  CALC_MEAN_TEMP_PHASE4  \\\n",
      "0                    652                   964                   1177   \n",
      "1                    690                  1010                   1185   \n",
      "2                    768                  1000                   1189   \n",
      "3                    750                  1019                   1189   \n",
      "4                    771                  1006                   1190   \n",
      "\n",
      "   CALC_MEAN_TEMP_PHASE5  TARGET_MEAN_TEMP_PHASE1  TARGET_MEAN_TEMP_PHASE2  \\\n",
      "0                     -5                    390.0                    690.0   \n",
      "1                     -5                    390.0                    690.0   \n",
      "2                     -5                    390.0                    690.0   \n",
      "3                     -5                    390.0                    690.0   \n",
      "4                     -5                    390.0                    690.0   \n",
      "\n",
      "   TARGET_MEAN_TEMP_PHASE3  TARGET_MEAN_TEMP_PHASE4  TARGET_MEAN_TEMP_PHASE5  \\\n",
      "0                    977.5                   1185.0                       -5   \n",
      "1                    977.5                   1185.0                       -5   \n",
      "2                    977.5                   1185.0                       -5   \n",
      "3                    977.5                   1185.0                       -5   \n",
      "4                    977.5                   1185.0                       -5   \n",
      "\n",
      "  Defecto  \n",
      "0       0  \n",
      "1       0  \n",
      "2       0  \n",
      "3       0  \n",
      "4       0  \n",
      "\n",
      "[5 rows x 135 columns]\n",
      "The 'Defecto' column has been updated, and the file has been saved as 'df_updated_with_defects.csv'.\n"
     ]
    }
   ],
   "source": [
    "# Update the 'Defecto' column for matching rows without overwriting existing values\n",
    "oldTags.loc[\n",
    "    oldTags[\"material_salida\"].isin(newDefects[\"material_salida\"]) & (oldTags[\"Defecto\"] != 1), \n",
    "    \"Defecto\"\n",
    "] = 1\n",
    "\n",
    "# Check the first few rows of the updated DataFrame\n",
    "print(oldTags.head())\n",
    "\n",
    "# Save the updated DataFrame to a new CSV file\n",
    "oldTags.to_csv(\"df_updated_with_defects.csv\", index=False)\n",
    "print(\"The 'Defecto' column has been updated, and the file has been saved as 'df_updated_with_defects.csv'.\")"
   ]
  },
  {
   "cell_type": "code",
   "execution_count": 23,
   "metadata": {},
   "outputs": [
    {
     "name": "stdout",
     "output_type": "stream",
     "text": [
      "Initial number of defects in the original DataFrame: 48\n",
      "Number of defects in the updated DataFrame: 48\n",
      "Number of new defects added: 0\n"
     ]
    }
   ],
   "source": [
    "updated_path = \"df_updated_with_defects.csv\"  \n",
    "updated = pd.read_csv(updated_path)\n",
    "\n",
    "# Count initial defects in the old DataFrame\n",
    "initial_defects = oldTags[\"Defecto\"].sum()\n",
    "\n",
    "# Count updated defects in the modified DataFrame\n",
    "updated_defects = updated[\"Defecto\"].sum()\n",
    "\n",
    "# Calculate the difference\n",
    "new_defects = updated_defects - initial_defects\n",
    "\n",
    "# Print the results\n",
    "print(f\"Initial number of defects in the original DataFrame: {initial_defects}\")\n",
    "print(f\"Number of defects in the updated DataFrame: {updated_defects}\")\n",
    "print(f\"Number of new defects added: {new_defects}\")\n"
   ]
  }
 ],
 "metadata": {
  "kernelspec": {
   "display_name": "Python 3",
   "language": "python",
   "name": "python3"
  },
  "language_info": {
   "codemirror_mode": {
    "name": "ipython",
    "version": 3
   },
   "file_extension": ".py",
   "mimetype": "text/x-python",
   "name": "python",
   "nbconvert_exporter": "python",
   "pygments_lexer": "ipython3",
   "version": "3.12.3"
  }
 },
 "nbformat": 4,
 "nbformat_minor": 2
}
